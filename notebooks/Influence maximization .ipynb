{
 "cells": [
  {
   "cell_type": "code",
   "execution_count": 1,
   "id": "2cd9f5b9",
   "metadata": {
    "pycharm": {
     "name": "#%%\n"
    }
   },
   "outputs": [],
   "source": [
    "import pandas as pd\n",
    "import numpy as np \n",
    "\n",
    "import sys \n",
    "sys.path.append('../')"
   ]
  },
  {
   "cell_type": "markdown",
   "id": "3839c177",
   "metadata": {
    "pycharm": {
     "name": "#%% md\n"
    }
   },
   "source": [
    "## Read datasets "
   ]
  },
  {
   "cell_type": "code",
   "execution_count": 3,
   "id": "188df9db",
   "metadata": {
    "pycharm": {
     "name": "#%%\n"
    }
   },
   "outputs": [],
   "source": [
    "# mutual: indicated whether the link represents a mutual friend relation (1) or not (0)\n",
    "# friend_date: Unix time stamp of when the friendship link was created\n",
    "# user_id: anonymized unique id of a user\n",
    "# friend_id: anonymized unique id of a user\n",
    "\n",
    "\n",
    "\n",
    "# vote_date: Unix time stamp of the vote\n",
    "# voter_id: anonymized unique id of the voter\n",
    "# story_id: anonymized unique id of the story\n",
    "\n",
    "\n",
    "friends = pd.read_csv('../../digg_friends.csv', names=['mutual', 'friend_date', 'user_id', 'friend_id' ])\n",
    "votes = pd.read_csv('../../digg_votes1.csv', names=['vote_date', 'voter_id', 'story_id'])\n",
    "# print(friends.duplicated().sum()) \n",
    "\n",
    "# #Friendship in both directions \n",
    "\n",
    "# mutual_0 = friends[friends['mutual'] == 0][['user_id', 'friend_id']]\n",
    "# mutual_1 = friends[friends['mutual'] == 1][['user_id', 'friend_id']]\n",
    "\n",
    "# mutual_2 = mutual_1.copy()\n",
    "# mutual_2[['user_id', 'friend_id']] = mutual_2[['friend_id', 'user_id']]\n",
    "\n",
    "\n",
    "# friends = pd.concat([mutual_0, mutual_1, mutual_2])[['user_id', 'friend_id']]\n",
    "# friends = friends.drop_duplicates()"
   ]
  },
  {
   "cell_type": "code",
   "execution_count": 4,
   "id": "d51ce243",
   "metadata": {
    "pycharm": {
     "name": "#%%\n"
    }
   },
   "outputs": [
    {
     "data": {
      "text/html": [
       "<div>\n",
       "<style scoped>\n",
       "    .dataframe tbody tr th:only-of-type {\n",
       "        vertical-align: middle;\n",
       "    }\n",
       "\n",
       "    .dataframe tbody tr th {\n",
       "        vertical-align: top;\n",
       "    }\n",
       "\n",
       "    .dataframe thead th {\n",
       "        text-align: right;\n",
       "    }\n",
       "</style>\n",
       "<table border=\"1\" class=\"dataframe\">\n",
       "  <thead>\n",
       "    <tr style=\"text-align: right;\">\n",
       "      <th></th>\n",
       "      <th>vote_date</th>\n",
       "      <th>voter_id</th>\n",
       "      <th>story_id</th>\n",
       "    </tr>\n",
       "  </thead>\n",
       "  <tbody>\n",
       "    <tr>\n",
       "      <th>0</th>\n",
       "      <td>1246573330</td>\n",
       "      <td>318</td>\n",
       "      <td>1</td>\n",
       "    </tr>\n",
       "    <tr>\n",
       "      <th>1</th>\n",
       "      <td>1246603391</td>\n",
       "      <td>399</td>\n",
       "      <td>1</td>\n",
       "    </tr>\n",
       "    <tr>\n",
       "      <th>2</th>\n",
       "      <td>1246573479</td>\n",
       "      <td>1749</td>\n",
       "      <td>1</td>\n",
       "    </tr>\n",
       "    <tr>\n",
       "      <th>3</th>\n",
       "      <td>1246599553</td>\n",
       "      <td>1964</td>\n",
       "      <td>1</td>\n",
       "    </tr>\n",
       "    <tr>\n",
       "      <th>4</th>\n",
       "      <td>1246568035</td>\n",
       "      <td>4362</td>\n",
       "      <td>1</td>\n",
       "    </tr>\n",
       "    <tr>\n",
       "      <th>...</th>\n",
       "      <td>...</td>\n",
       "      <td>...</td>\n",
       "      <td>...</td>\n",
       "    </tr>\n",
       "    <tr>\n",
       "      <th>3018192</th>\n",
       "      <td>1243937518</td>\n",
       "      <td>334596</td>\n",
       "      <td>3553</td>\n",
       "    </tr>\n",
       "    <tr>\n",
       "      <th>3018193</th>\n",
       "      <td>1243988005</td>\n",
       "      <td>334812</td>\n",
       "      <td>3553</td>\n",
       "    </tr>\n",
       "    <tr>\n",
       "      <th>3018194</th>\n",
       "      <td>1243909670</td>\n",
       "      <td>335028</td>\n",
       "      <td>3553</td>\n",
       "    </tr>\n",
       "    <tr>\n",
       "      <th>3018195</th>\n",
       "      <td>1243910982</td>\n",
       "      <td>335204</td>\n",
       "      <td>3553</td>\n",
       "    </tr>\n",
       "    <tr>\n",
       "      <th>3018196</th>\n",
       "      <td>1243922107</td>\n",
       "      <td>335802</td>\n",
       "      <td>3553</td>\n",
       "    </tr>\n",
       "  </tbody>\n",
       "</table>\n",
       "<p>3018197 rows × 3 columns</p>\n",
       "</div>"
      ],
      "text/plain": [
       "          vote_date  voter_id  story_id\n",
       "0        1246573330       318         1\n",
       "1        1246603391       399         1\n",
       "2        1246573479      1749         1\n",
       "3        1246599553      1964         1\n",
       "4        1246568035      4362         1\n",
       "...             ...       ...       ...\n",
       "3018192  1243937518    334596      3553\n",
       "3018193  1243988005    334812      3553\n",
       "3018194  1243909670    335028      3553\n",
       "3018195  1243910982    335204      3553\n",
       "3018196  1243922107    335802      3553\n",
       "\n",
       "[3018197 rows x 3 columns]"
      ]
     },
     "execution_count": 4,
     "metadata": {},
     "output_type": "execute_result"
    }
   ],
   "source": [
    "votes "
   ]
  },
  {
   "cell_type": "markdown",
   "id": "874a0f74",
   "metadata": {
    "pycharm": {
     "name": "#%% md\n"
    }
   },
   "source": [
    "## Removing 0 timestamps "
   ]
  },
  {
   "cell_type": "code",
   "execution_count": 5,
   "id": "c40c19e4",
   "metadata": {
    "pycharm": {
     "name": "#%%\n"
    }
   },
   "outputs": [
    {
     "data": {
      "text/html": [
       "<div>\n",
       "<style scoped>\n",
       "    .dataframe tbody tr th:only-of-type {\n",
       "        vertical-align: middle;\n",
       "    }\n",
       "\n",
       "    .dataframe tbody tr th {\n",
       "        vertical-align: top;\n",
       "    }\n",
       "\n",
       "    .dataframe thead th {\n",
       "        text-align: right;\n",
       "    }\n",
       "</style>\n",
       "<table border=\"1\" class=\"dataframe\">\n",
       "  <thead>\n",
       "    <tr style=\"text-align: right;\">\n",
       "      <th></th>\n",
       "      <th>vote_date</th>\n",
       "      <th>voter_id</th>\n",
       "      <th>story_id</th>\n",
       "    </tr>\n",
       "  </thead>\n",
       "  <tbody>\n",
       "  </tbody>\n",
       "</table>\n",
       "</div>"
      ],
      "text/plain": [
       "Empty DataFrame\n",
       "Columns: [vote_date, voter_id, story_id]\n",
       "Index: []"
      ]
     },
     "execution_count": 5,
     "metadata": {},
     "output_type": "execute_result"
    }
   ],
   "source": [
    "votes[votes['vote_date'] == '0'] "
   ]
  },
  {
   "cell_type": "code",
   "execution_count": 6,
   "id": "8441bfc6",
   "metadata": {
    "pycharm": {
     "name": "#%%\n"
    }
   },
   "outputs": [
    {
     "name": "stdout",
     "output_type": "stream",
     "text": [
      "27488  users\n"
     ]
    },
    {
     "data": {
      "text/html": [
       "<div>\n",
       "<style scoped>\n",
       "    .dataframe tbody tr th:only-of-type {\n",
       "        vertical-align: middle;\n",
       "    }\n",
       "\n",
       "    .dataframe tbody tr th {\n",
       "        vertical-align: top;\n",
       "    }\n",
       "\n",
       "    .dataframe thead th {\n",
       "        text-align: right;\n",
       "    }\n",
       "</style>\n",
       "<table border=\"1\" class=\"dataframe\">\n",
       "  <thead>\n",
       "    <tr style=\"text-align: right;\">\n",
       "      <th></th>\n",
       "      <th>vote_date</th>\n",
       "      <th>voter_id</th>\n",
       "      <th>story_id</th>\n",
       "    </tr>\n",
       "  </thead>\n",
       "  <tbody>\n",
       "    <tr>\n",
       "      <th>0</th>\n",
       "      <td>1246573330</td>\n",
       "      <td>318</td>\n",
       "      <td>1</td>\n",
       "    </tr>\n",
       "    <tr>\n",
       "      <th>1</th>\n",
       "      <td>1246603391</td>\n",
       "      <td>399</td>\n",
       "      <td>1</td>\n",
       "    </tr>\n",
       "    <tr>\n",
       "      <th>2</th>\n",
       "      <td>1246573479</td>\n",
       "      <td>1749</td>\n",
       "      <td>1</td>\n",
       "    </tr>\n",
       "    <tr>\n",
       "      <th>3</th>\n",
       "      <td>1246599553</td>\n",
       "      <td>1964</td>\n",
       "      <td>1</td>\n",
       "    </tr>\n",
       "    <tr>\n",
       "      <th>5</th>\n",
       "      <td>1246570119</td>\n",
       "      <td>4610</td>\n",
       "      <td>1</td>\n",
       "    </tr>\n",
       "    <tr>\n",
       "      <th>...</th>\n",
       "      <td>...</td>\n",
       "      <td>...</td>\n",
       "      <td>...</td>\n",
       "    </tr>\n",
       "    <tr>\n",
       "      <th>3018189</th>\n",
       "      <td>1243955552</td>\n",
       "      <td>333991</td>\n",
       "      <td>3553</td>\n",
       "    </tr>\n",
       "    <tr>\n",
       "      <th>3018190</th>\n",
       "      <td>1243989870</td>\n",
       "      <td>334407</td>\n",
       "      <td>3553</td>\n",
       "    </tr>\n",
       "    <tr>\n",
       "      <th>3018192</th>\n",
       "      <td>1243937518</td>\n",
       "      <td>334596</td>\n",
       "      <td>3553</td>\n",
       "    </tr>\n",
       "    <tr>\n",
       "      <th>3018193</th>\n",
       "      <td>1243988005</td>\n",
       "      <td>334812</td>\n",
       "      <td>3553</td>\n",
       "    </tr>\n",
       "    <tr>\n",
       "      <th>3018195</th>\n",
       "      <td>1243910982</td>\n",
       "      <td>335204</td>\n",
       "      <td>3553</td>\n",
       "    </tr>\n",
       "  </tbody>\n",
       "</table>\n",
       "<p>2517067 rows × 3 columns</p>\n",
       "</div>"
      ],
      "text/plain": [
       "          vote_date  voter_id  story_id\n",
       "0        1246573330       318         1\n",
       "1        1246603391       399         1\n",
       "2        1246573479      1749         1\n",
       "3        1246599553      1964         1\n",
       "5        1246570119      4610         1\n",
       "...             ...       ...       ...\n",
       "3018189  1243955552    333991      3553\n",
       "3018190  1243989870    334407      3553\n",
       "3018192  1243937518    334596      3553\n",
       "3018193  1243988005    334812      3553\n",
       "3018195  1243910982    335204      3553\n",
       "\n",
       "[2517067 rows x 3 columns]"
      ]
     },
     "execution_count": 6,
     "metadata": {},
     "output_type": "execute_result"
    }
   ],
   "source": [
    "# user_ids = set(votes['voter_id'].to_list())\n",
    "\n",
    "vote_freqs = dict(votes.groupby(['voter_id']).size())\n",
    "filtered_users = list({k for k, v in vote_freqs.items() if v >= 20 } )\n",
    "\n",
    "\n",
    "\n",
    "story_freqs = dict(votes.groupby(['story_id']).size())\n",
    "filtered_stories = {k for k, v in story_freqs.items() if v >= 20 } \n",
    "\n",
    "\n",
    "\n",
    "filtered_votes = votes[votes['story_id'].isin(filtered_stories)]\n",
    "filtered_votes = filtered_votes[filtered_votes['voter_id'].isin(filtered_users)]\n",
    "print(len(filtered_users), ' users')\n",
    "\n",
    "filtered_votes"
   ]
  },
  {
   "cell_type": "code",
   "execution_count": 237,
   "id": "0b8f4629",
   "metadata": {
    "pycharm": {
     "name": "#%%\n"
    }
   },
   "outputs": [],
   "source": [
    "# import networkx\n",
    "# G = networkx.DiGraph()\n",
    "# for u,f in zip(friends['user_id'].to_list(), friends['friend_id'].to_list()):\n",
    "#     G.add_edge(u, f)\n",
    "    \n",
    "# G_filtered = G.subgraph(filtered_users)\n",
    "\n",
    "\n",
    "# dummy = G_filtered.nodes\n",
    "# users_ = filtered_votes['voter_id'].unique()\n",
    "\n",
    "# all([d in users_ for  d in dummy])\n",
    "\n",
    "\n",
    "# networkx.write_edgelist(G_filtered, 'filtered_friends.csv', data=False, delimiter='\\t')\n",
    "# filtered_votes [['voter_id', 'story_id', 'vote_date']].to_csv('./filtered_votes.csv', header=['voter_id', 'story_id', 'vote_date'], sep='\\t', index=False)\n",
    "\n",
    "# ## Users who voted > 100 \n",
    "# voters = filtered_votes[['voter_id', 'vote_date']].groupby(['voter_id'])\n",
    "\n",
    "# dict(voters.size())"
   ]
  },
  {
   "cell_type": "code",
   "execution_count": 194,
   "id": "c862c1c7",
   "metadata": {
    "pycharm": {
     "name": "#%%\n"
    }
   },
   "outputs": [],
   "source": [
    "\n"
   ]
  },
  {
   "cell_type": "code",
   "execution_count": 195,
   "id": "b6cd122c",
   "metadata": {
    "pycharm": {
     "name": "#%%\n"
    }
   },
   "outputs": [],
   "source": []
  },
  {
   "cell_type": "code",
   "execution_count": null,
   "id": "ec6c4712",
   "metadata": {
    "pycharm": {
     "name": "#%%\n"
    }
   },
   "outputs": [],
   "source": []
  },
  {
   "cell_type": "code",
   "execution_count": 203,
   "id": "da11addf",
   "metadata": {
    "pycharm": {
     "name": "#%%\n"
    }
   },
   "outputs": [],
   "source": []
  },
  {
   "cell_type": "code",
   "execution_count": 202,
   "id": "074af509",
   "metadata": {
    "pycharm": {
     "name": "#%%\n"
    }
   },
   "outputs": [],
   "source": []
  },
  {
   "cell_type": "code",
   "execution_count": 204,
   "id": "5298578b",
   "metadata": {
    "pycharm": {
     "name": "#%%\n"
    }
   },
   "outputs": [],
   "source": []
  },
  {
   "cell_type": "code",
   "execution_count": null,
   "id": "265e1da1",
   "metadata": {
    "pycharm": {
     "name": "#%%\n"
    }
   },
   "outputs": [],
   "source": []
  },
  {
   "cell_type": "code",
   "execution_count": 216,
   "id": "6ddd7fa9",
   "metadata": {
    "pycharm": {
     "name": "#%%\n"
    }
   },
   "outputs": [],
   "source": []
  },
  {
   "cell_type": "code",
   "execution_count": null,
   "id": "dcb2227b",
   "metadata": {
    "pycharm": {
     "name": "#%%\n"
    }
   },
   "outputs": [],
   "source": []
  },
  {
   "cell_type": "code",
   "execution_count": null,
   "id": "67bbf1a2",
   "metadata": {
    "pycharm": {
     "name": "#%%\n"
    }
   },
   "outputs": [],
   "source": []
  },
  {
   "cell_type": "code",
   "execution_count": null,
   "id": "33cb4000",
   "metadata": {
    "pycharm": {
     "name": "#%%\n"
    }
   },
   "outputs": [],
   "source": []
  },
  {
   "cell_type": "code",
   "execution_count": null,
   "id": "ac4991df",
   "metadata": {
    "pycharm": {
     "name": "#%%\n"
    }
   },
   "outputs": [],
   "source": []
  },
  {
   "cell_type": "code",
   "execution_count": null,
   "id": "64707685",
   "metadata": {
    "pycharm": {
     "name": "#%%\n"
    }
   },
   "outputs": [],
   "source": []
  },
  {
   "cell_type": "code",
   "execution_count": null,
   "id": "f612541e",
   "metadata": {
    "pycharm": {
     "name": "#%%\n"
    }
   },
   "outputs": [],
   "source": []
  },
  {
   "cell_type": "code",
   "execution_count": null,
   "id": "52a525d3",
   "metadata": {
    "pycharm": {
     "name": "#%%\n"
    }
   },
   "outputs": [],
   "source": []
  },
  {
   "cell_type": "code",
   "execution_count": null,
   "id": "d8efcffc",
   "metadata": {
    "pycharm": {
     "name": "#%%\n"
    }
   },
   "outputs": [],
   "source": []
  },
  {
   "cell_type": "code",
   "execution_count": null,
   "id": "08a30678",
   "metadata": {
    "pycharm": {
     "name": "#%%\n"
    }
   },
   "outputs": [],
   "source": []
  },
  {
   "cell_type": "code",
   "execution_count": null,
   "id": "26df3c51",
   "metadata": {
    "pycharm": {
     "name": "#%%\n"
    }
   },
   "outputs": [],
   "source": []
  },
  {
   "cell_type": "code",
   "execution_count": null,
   "id": "d028f2b0",
   "metadata": {
    "pycharm": {
     "name": "#%%\n"
    }
   },
   "outputs": [],
   "source": []
  },
  {
   "cell_type": "code",
   "execution_count": 4,
   "id": "d03b2e90",
   "metadata": {
    "pycharm": {
     "name": "#%%\n"
    }
   },
   "outputs": [
    {
     "data": {
      "text/html": [
       "<div>\n",
       "<style scoped>\n",
       "    .dataframe tbody tr th:only-of-type {\n",
       "        vertical-align: middle;\n",
       "    }\n",
       "\n",
       "    .dataframe tbody tr th {\n",
       "        vertical-align: top;\n",
       "    }\n",
       "\n",
       "    .dataframe thead th {\n",
       "        text-align: right;\n",
       "    }\n",
       "</style>\n",
       "<table border=\"1\" class=\"dataframe\">\n",
       "  <thead>\n",
       "    <tr style=\"text-align: right;\">\n",
       "      <th></th>\n",
       "      <th>user_id</th>\n",
       "      <th>friend_id</th>\n",
       "    </tr>\n",
       "  </thead>\n",
       "  <tbody>\n",
       "    <tr>\n",
       "      <th>937</th>\n",
       "      <td>336191</td>\n",
       "      <td>335404</td>\n",
       "    </tr>\n",
       "    <tr>\n",
       "      <th>941</th>\n",
       "      <td>336191</td>\n",
       "      <td>333584</td>\n",
       "    </tr>\n",
       "    <tr>\n",
       "      <th>948</th>\n",
       "      <td>336191</td>\n",
       "      <td>330208</td>\n",
       "    </tr>\n",
       "    <tr>\n",
       "      <th>952</th>\n",
       "      <td>336191</td>\n",
       "      <td>327421</td>\n",
       "    </tr>\n",
       "    <tr>\n",
       "      <th>953</th>\n",
       "      <td>336191</td>\n",
       "      <td>327306</td>\n",
       "    </tr>\n",
       "    <tr>\n",
       "      <th>...</th>\n",
       "      <td>...</td>\n",
       "      <td>...</td>\n",
       "    </tr>\n",
       "    <tr>\n",
       "      <th>1664605</th>\n",
       "      <td>173235</td>\n",
       "      <td>13360</td>\n",
       "    </tr>\n",
       "    <tr>\n",
       "      <th>1664665</th>\n",
       "      <td>78443</td>\n",
       "      <td>13360</td>\n",
       "    </tr>\n",
       "    <tr>\n",
       "      <th>1677306</th>\n",
       "      <td>302488</td>\n",
       "      <td>10740</td>\n",
       "    </tr>\n",
       "    <tr>\n",
       "      <th>1678324</th>\n",
       "      <td>161807</td>\n",
       "      <td>10678</td>\n",
       "    </tr>\n",
       "    <tr>\n",
       "      <th>1683120</th>\n",
       "      <td>301599</td>\n",
       "      <td>9386</td>\n",
       "    </tr>\n",
       "  </tbody>\n",
       "</table>\n",
       "<p>152098 rows × 2 columns</p>\n",
       "</div>"
      ],
      "text/plain": [
       "         user_id  friend_id\n",
       "937       336191     335404\n",
       "941       336191     333584\n",
       "948       336191     330208\n",
       "952       336191     327421\n",
       "953       336191     327306\n",
       "...          ...        ...\n",
       "1664605   173235      13360\n",
       "1664665    78443      13360\n",
       "1677306   302488      10740\n",
       "1678324   161807      10678\n",
       "1683120   301599       9386\n",
       "\n",
       "[152098 rows x 2 columns]"
      ]
     },
     "execution_count": 4,
     "metadata": {},
     "output_type": "execute_result"
    }
   ],
   "source": [
    "filtered_friends = friends[friends['user_id'].isin(filtered_users) & friends['friend_id'].isin(filtered_users) ]\n",
    "filtered_friends"
   ]
  },
  {
   "cell_type": "code",
   "execution_count": null,
   "id": "8ba2cf4a",
   "metadata": {
    "pycharm": {
     "name": "#%%\n"
    }
   },
   "outputs": [],
   "source": []
  },
  {
   "cell_type": "code",
   "execution_count": 5,
   "id": "6b038440",
   "metadata": {
    "pycharm": {
     "name": "#%%\n"
    }
   },
   "outputs": [
    {
     "name": "stdout",
     "output_type": "stream",
     "text": [
      "7048\n"
     ]
    }
   ],
   "source": [
    "# filtering friendships \n",
    "import random \n",
    "random.seed(1000)\n",
    "\n",
    "all_users = set(filtered_friends['user_id'])\n",
    "all_users_ = set(filtered_friends['friend_id'])\n",
    "\n",
    "\n",
    "all_users = list(set(all_users).union(set(all_users_)))\n",
    "\n",
    "\n",
    "# all_users = random.choices(list(all_users), k=1000)\n",
    "\n",
    "\n",
    "print(len(all_users))\n",
    "\n",
    "\n",
    "final_votes = filtered_votes[filtered_votes['voter_id'].isin(all_users)]\n",
    "final_user_friends = filtered_friends[filtered_friends['user_id'].isin(all_users) & filtered_friends['friend_id'].isin(all_users) ]\n"
   ]
  },
  {
   "cell_type": "code",
   "execution_count": 6,
   "id": "b0c18196",
   "metadata": {
    "pycharm": {
     "name": "#%%\n"
    }
   },
   "outputs": [
    {
     "data": {
      "text/plain": [
       "7048"
      ]
     },
     "execution_count": 6,
     "metadata": {},
     "output_type": "execute_result"
    }
   ],
   "source": [
    "len(set(final_user_friends['user_id']).union(set(final_user_friends['friend_id'])))"
   ]
  },
  {
   "cell_type": "code",
   "execution_count": null,
   "id": "1f24cd89",
   "metadata": {
    "pycharm": {
     "name": "#%%\n"
    }
   },
   "outputs": [],
   "source": []
  },
  {
   "cell_type": "code",
   "execution_count": 7,
   "id": "c0c82534",
   "metadata": {
    "pycharm": {
     "name": "#%%\n"
    }
   },
   "outputs": [
    {
     "data": {
      "text/html": [
       "<div>\n",
       "<style scoped>\n",
       "    .dataframe tbody tr th:only-of-type {\n",
       "        vertical-align: middle;\n",
       "    }\n",
       "\n",
       "    .dataframe tbody tr th {\n",
       "        vertical-align: top;\n",
       "    }\n",
       "\n",
       "    .dataframe thead th {\n",
       "        text-align: right;\n",
       "    }\n",
       "</style>\n",
       "<table border=\"1\" class=\"dataframe\">\n",
       "  <thead>\n",
       "    <tr style=\"text-align: right;\">\n",
       "      <th></th>\n",
       "      <th>user_id</th>\n",
       "      <th>friend_id</th>\n",
       "    </tr>\n",
       "  </thead>\n",
       "  <tbody>\n",
       "    <tr>\n",
       "      <th>937</th>\n",
       "      <td>336191</td>\n",
       "      <td>335404</td>\n",
       "    </tr>\n",
       "    <tr>\n",
       "      <th>941</th>\n",
       "      <td>336191</td>\n",
       "      <td>333584</td>\n",
       "    </tr>\n",
       "    <tr>\n",
       "      <th>948</th>\n",
       "      <td>336191</td>\n",
       "      <td>330208</td>\n",
       "    </tr>\n",
       "    <tr>\n",
       "      <th>952</th>\n",
       "      <td>336191</td>\n",
       "      <td>327421</td>\n",
       "    </tr>\n",
       "    <tr>\n",
       "      <th>953</th>\n",
       "      <td>336191</td>\n",
       "      <td>327306</td>\n",
       "    </tr>\n",
       "    <tr>\n",
       "      <th>...</th>\n",
       "      <td>...</td>\n",
       "      <td>...</td>\n",
       "    </tr>\n",
       "    <tr>\n",
       "      <th>1664605</th>\n",
       "      <td>173235</td>\n",
       "      <td>13360</td>\n",
       "    </tr>\n",
       "    <tr>\n",
       "      <th>1664665</th>\n",
       "      <td>78443</td>\n",
       "      <td>13360</td>\n",
       "    </tr>\n",
       "    <tr>\n",
       "      <th>1677306</th>\n",
       "      <td>302488</td>\n",
       "      <td>10740</td>\n",
       "    </tr>\n",
       "    <tr>\n",
       "      <th>1678324</th>\n",
       "      <td>161807</td>\n",
       "      <td>10678</td>\n",
       "    </tr>\n",
       "    <tr>\n",
       "      <th>1683120</th>\n",
       "      <td>301599</td>\n",
       "      <td>9386</td>\n",
       "    </tr>\n",
       "  </tbody>\n",
       "</table>\n",
       "<p>152098 rows × 2 columns</p>\n",
       "</div>"
      ],
      "text/plain": [
       "         user_id  friend_id\n",
       "937       336191     335404\n",
       "941       336191     333584\n",
       "948       336191     330208\n",
       "952       336191     327421\n",
       "953       336191     327306\n",
       "...          ...        ...\n",
       "1664605   173235      13360\n",
       "1664665    78443      13360\n",
       "1677306   302488      10740\n",
       "1678324   161807      10678\n",
       "1683120   301599       9386\n",
       "\n",
       "[152098 rows x 2 columns]"
      ]
     },
     "execution_count": 7,
     "metadata": {},
     "output_type": "execute_result"
    }
   ],
   "source": [
    "final_user_friends"
   ]
  },
  {
   "cell_type": "code",
   "execution_count": 8,
   "id": "c1225932",
   "metadata": {
    "pycharm": {
     "name": "#%%\n"
    }
   },
   "outputs": [],
   "source": [
    "final_user_friends [ [ 'user_id', 'friend_id']  ].to_csv('./output/digg_filtered_friends.txt', header=['user_id', 'friend_id'], sep='\\t', index=False)"
   ]
  },
  {
   "cell_type": "code",
   "execution_count": 9,
   "id": "b289bcc1",
   "metadata": {
    "pycharm": {
     "name": "#%%\n"
    }
   },
   "outputs": [],
   "source": [
    "final_votes [['voter_id', 'story_id', 'vote_date']].to_csv('./output/digg_filtered_votes.txt', header=['voter_id', 'story_id', 'vote_date'], sep='\\t', index=False)"
   ]
  },
  {
   "cell_type": "code",
   "execution_count": null,
   "id": "e4bfd4a6",
   "metadata": {
    "pycharm": {
     "name": "#%%\n"
    }
   },
   "outputs": [],
   "source": []
  },
  {
   "cell_type": "code",
   "execution_count": null,
   "outputs": [],
   "source": [
    "## Selecting a seed set "
   ],
   "metadata": {
    "collapsed": false,
    "pycharm": {
     "name": "#%%\n"
    }
   }
  },
  {
   "cell_type": "code",
   "execution_count": 33,
   "id": "1e7a91fb",
   "metadata": {
    "pycharm": {
     "name": "#%%\n"
    }
   },
   "outputs": [
    {
     "data": {
      "text/plain": [
       "571"
      ]
     },
     "execution_count": 33,
     "metadata": {},
     "output_type": "execute_result"
    }
   ],
   "source": [
    "# users with >100 votes \n",
    "active_voters = [k for k, v in dict(final_votes.groupby(['voter_id']).size()).items() if v >= 500]\n",
    "len(active_voters)"
   ]
  },
  {
   "cell_type": "code",
   "execution_count": 36,
   "id": "7ffc5e58",
   "metadata": {
    "pycharm": {
     "name": "#%%\n"
    }
   },
   "outputs": [
    {
     "data": {
      "text/plain": [
       "154"
      ]
     },
     "execution_count": 36,
     "metadata": {},
     "output_type": "execute_result"
    }
   ],
   "source": [
    "active_users = [k for k, v in dict(final_user_friends.groupby(['user_id']).size()).items() if v >= 200]\n",
    "len(active_users)"
   ]
  },
  {
   "cell_type": "code",
   "execution_count": 39,
   "id": "29181710",
   "metadata": {
    "pycharm": {
     "name": "#%%\n"
    }
   },
   "outputs": [
    {
     "data": {
      "text/plain": [
       "{13360,\n",
       " 16255,\n",
       " 24916,\n",
       " 63501,\n",
       " 68273,\n",
       " 83820,\n",
       " 87658,\n",
       " 95610,\n",
       " 101035,\n",
       " 120100,\n",
       " 124829,\n",
       " 147259,\n",
       " 147848,\n",
       " 152331,\n",
       " 152371,\n",
       " 154329,\n",
       " 154558,\n",
       " 166025,\n",
       " 193821,\n",
       " 223113,\n",
       " 223241,\n",
       " 265784,\n",
       " 268840,\n",
       " 287433,\n",
       " 291970,\n",
       " 295716,\n",
       " 314334,\n",
       " 321735,\n",
       " 322531,\n",
       " 324532,\n",
       " 332346}"
      ]
     },
     "execution_count": 39,
     "metadata": {},
     "output_type": "execute_result"
    }
   ],
   "source": [
    "seed_set = set(active_users).intersection(set(active_voters))\n",
    "seed_set"
   ]
  },
  {
   "cell_type": "markdown",
   "id": "31672bef",
   "metadata": {
    "pycharm": {
     "name": "#%% md\n"
    }
   },
   "source": [
    "## Old scripts "
   ]
  },
  {
   "cell_type": "code",
   "execution_count": null,
   "id": "6d0db845",
   "metadata": {
    "pycharm": {
     "name": "#%%\n"
    }
   },
   "outputs": [],
   "source": [
    "friends.shape, votes.shape"
   ]
  },
  {
   "cell_type": "markdown",
   "id": "6929a1e0",
   "metadata": {
    "pycharm": {
     "name": "#%% md\n"
    }
   },
   "source": [
    "## Filter users who voted voted atleast on 20 stories"
   ]
  },
  {
   "cell_type": "code",
   "execution_count": null,
   "id": "41d052f2",
   "metadata": {
    "pycharm": {
     "name": "#%%\n"
    }
   },
   "outputs": [],
   "source": [
    "users_friends = dict(friends.groupby(['user_id']).size())\n",
    "friends_users = dict(friends.groupby(['friend_id']).size())\n",
    "\n",
    "top_users = list({k:v for k,v in users_friends.items() if v < 400 and v > 20  })\n",
    "\n",
    "len(top_users)\n",
    "# top_users = set(top_users.keys())\n",
    "\n",
    "# filtered_friends = friends[friends['user_id'].isin(top_users) & friends['friend_id'].isin(top_users)]\n",
    "# print(len(top_users))\n",
    "\n",
    "# filtered_friends[ [ 'user_id', 'friend_id']  ]"
   ]
  },
  {
   "cell_type": "code",
   "execution_count": null,
   "id": "50dc4400",
   "metadata": {
    "pycharm": {
     "name": "#%%\n"
    },
    "scrolled": true
   },
   "outputs": [],
   "source": [
    "# # total_users = top_followers\n",
    "# # total_users = top_users\n",
    "# total_users = list(set(list(top_users.keys()) + list(top_followers.keys())))\n",
    "\n",
    "# filtered_friends = friends[(friends['user_id'].isin(total_users)) | (friends['friend_id'].isin(total_users))]"
   ]
  },
  {
   "cell_type": "code",
   "execution_count": null,
   "id": "cc380f44",
   "metadata": {
    "pycharm": {
     "name": "#%%\n"
    }
   },
   "outputs": [],
   "source": [
    "friends[friends['user_id'].isin(top_users)]"
   ]
  },
  {
   "cell_type": "code",
   "execution_count": null,
   "id": "9ba4be37",
   "metadata": {
    "pycharm": {
     "name": "#%%\n"
    }
   },
   "outputs": [],
   "source": [
    "860 ** 2"
   ]
  },
  {
   "cell_type": "code",
   "execution_count": null,
   "id": "22fb4ce7",
   "metadata": {
    "pycharm": {
     "name": "#%%\n"
    }
   },
   "outputs": [],
   "source": [
    "mutual_1"
   ]
  },
  {
   "cell_type": "markdown",
   "id": "97723663",
   "metadata": {
    "pycharm": {
     "name": "#%% md\n"
    }
   },
   "source": [
    "## Save files "
   ]
  },
  {
   "cell_type": "code",
   "execution_count": null,
   "id": "9541365c",
   "metadata": {
    "pycharm": {
     "name": "#%%\n"
    }
   },
   "outputs": [],
   "source": [
    "# network_path: No header. SourceId\tDestinationId\n",
    "    \n",
    "filtered_friends[ [ 'user_id', 'friend_id']  ].to_csv('./output/digg_filtered_friends.txt', header=['user_id', 'friend_id'], sep='\\t', index=False)"
   ]
  },
  {
   "cell_type": "code",
   "execution_count": null,
   "id": "5a46c70a",
   "metadata": {
    "pycharm": {
     "name": "#%%\n"
    }
   },
   "outputs": [],
   "source": []
  },
  {
   "cell_type": "code",
   "execution_count": null,
   "id": "85e949fa",
   "metadata": {
    "pycharm": {
     "name": "#%%\n"
    }
   },
   "outputs": [],
   "source": [
    "filtered_votes = votes[votes['voter_id'].isin(top_users)]\n",
    "\n",
    "stories_count = filtered_votes.groupby(['story_id']).size()\n",
    "top_stories = [k for k,v in stories_count.items() if v > 20]\n",
    "filtered_votes = filtered_votes[votes['story_id'].isin(top_stories)]\n",
    "\n",
    "users_counts = filtered_votes.groupby(['voter_id']).size()\n",
    "top_users = [u for u, count in users_counts.items() if count > 20]\n",
    "# print(len(top_users))\n",
    "filtered_votes = filtered_votes[votes['voter_id'].isin(top_users)]\n",
    "filtered_votes['voter_id'].unique().shape\n",
    "\n",
    "\n",
    "filtered_votes.shape "
   ]
  },
  {
   "cell_type": "code",
   "execution_count": null,
   "id": "faa970fd",
   "metadata": {
    "pycharm": {
     "name": "#%%\n"
    }
   },
   "outputs": [],
   "source": [
    "filtered_votes['voter_id'].unique().shape "
   ]
  },
  {
   "cell_type": "markdown",
   "id": "f2353de2",
   "metadata": {
    "pycharm": {
     "name": "#%% md\n"
    }
   },
   "source": [
    "## Filter by stories having >20 votes"
   ]
  },
  {
   "cell_type": "code",
   "execution_count": null,
   "id": "cf5fc3a5",
   "metadata": {
    "pycharm": {
     "name": "#%%\n"
    }
   },
   "outputs": [],
   "source": [
    "# stories = votes['story_id'].unique()\n",
    "story_votes = dict(votes.groupby(['story_id']).size())"
   ]
  },
  {
   "cell_type": "code",
   "execution_count": null,
   "id": "81a88da0",
   "metadata": {
    "pycharm": {
     "name": "#%%\n"
    }
   },
   "outputs": [],
   "source": [
    "\n",
    "story_votes = {k:v for k,v in story_votes.items() if v > 100 }\n",
    "\n",
    "top_stories = list(story_votes.keys())"
   ]
  },
  {
   "cell_type": "code",
   "execution_count": null,
   "id": "300f2377",
   "metadata": {
    "pycharm": {
     "name": "#%%\n"
    }
   },
   "outputs": [],
   "source": [
    "filtered_votes = votes[votes['story_id'].isin(top_stories) & votes['voter_id'].isin(top_users)]"
   ]
  },
  {
   "cell_type": "code",
   "execution_count": null,
   "id": "89a761ec",
   "metadata": {
    "pycharm": {
     "name": "#%%\n"
    }
   },
   "outputs": [],
   "source": [
    "len(top_users), len(top_stories)"
   ]
  },
  {
   "cell_type": "code",
   "execution_count": null,
   "id": "2418d654",
   "metadata": {
    "pycharm": {
     "name": "#%%\n"
    }
   },
   "outputs": [],
   "source": [
    "filtered_votes [['voter_id', 'story_id', 'vote_date']].to_csv('./output/digg_filtered_votes.txt', header=['voter_id', 'story_id', 'vote_date'], sep='\\t', index=False)"
   ]
  },
  {
   "cell_type": "code",
   "execution_count": null,
   "id": "4f7eea85",
   "metadata": {
    "pycharm": {
     "name": "#%%\n"
    }
   },
   "outputs": [],
   "source": [
    "filtered_votes [['voter_id', 'story_id', 'vote_date']]"
   ]
  },
  {
   "cell_type": "code",
   "execution_count": null,
   "id": "338b94f5",
   "metadata": {
    "pycharm": {
     "name": "#%%\n"
    }
   },
   "outputs": [],
   "source": []
  },
  {
   "cell_type": "code",
   "execution_count": null,
   "id": "013619c4",
   "metadata": {
    "pycharm": {
     "name": "#%%\n"
    }
   },
   "outputs": [],
   "source": []
  },
  {
   "cell_type": "markdown",
   "id": "dd6e1d5e",
   "metadata": {
    "pycharm": {
     "name": "#%% md\n"
    }
   },
   "source": [
    "\n",
    "## Create network \n",
    "\n"
   ]
  },
  {
   "cell_type": "code",
   "execution_count": null,
   "id": "7d74600e",
   "metadata": {
    "pycharm": {
     "name": "#%%\n"
    }
   },
   "outputs": [],
   "source": [
    "import networkx\n",
    "\n",
    "G = networkx.DiGraph()\n",
    "for u in top_users: \n",
    "    G.add_node(u)\n",
    "    friends = filtered_friends[filtered_friends['user_id'] == u]['friend_id']\n",
    "    \n",
    "    G.add_edges_from([(u, f) for f in friends])\n"
   ]
  },
  {
   "cell_type": "markdown",
   "id": "72b54756",
   "metadata": {
    "pycharm": {
     "name": "#%% md\n"
    }
   },
   "source": [
    "# Load weights "
   ]
  },
  {
   "cell_type": "code",
   "execution_count": null,
   "id": "37aa41b2",
   "metadata": {
    "pycharm": {
     "name": "#%%\n"
    }
   },
   "outputs": [],
   "source": [
    "# filtered_friends[['user_id', 'friend_id']]\n",
    "\n",
    "filtered_friends[filtered_friends['user_id'] == 1230024]"
   ]
  },
  {
   "cell_type": "code",
   "execution_count": null,
   "id": "dd1a9733",
   "metadata": {
    "pycharm": {
     "name": "#%%\n"
    }
   },
   "outputs": [],
   "source": []
  },
  {
   "cell_type": "code",
   "execution_count": null,
   "id": "a4b973ef",
   "metadata": {
    "pycharm": {
     "name": "#%%\n"
    }
   },
   "outputs": [],
   "source": [
    "def prepare_weights(weight_file='./output/digg_with_weights.txt_InfProbs(10)', topic_col='Topic1'):\n",
    "\n",
    "    weights = pd.read_csv(weight_file, sep='\\t', \n",
    "                          names=['Influencer', 'Influenced'] + [f'Topic{i+1}' for i in range(10)], skiprows=1, index_col=False)\n",
    "\n",
    "    data = weights[['Influencer', 'Influenced', topic_col]].to_dict('list')\n",
    "    influencer, influenced, weights_ = data['Influencer'], data['Influenced'], data[topic_col]\n",
    "\n",
    "\n",
    "    return {(influencer[i], influenced[i]): weights_[i] for i, _ in enumerate(weights_) }\n",
    "\n",
    "# weight_dict = dict(zip(influenced, influenced), weights_)"
   ]
  },
  {
   "cell_type": "code",
   "execution_count": null,
   "id": "18d651fe",
   "metadata": {
    "pycharm": {
     "name": "#%%\n"
    }
   },
   "outputs": [],
   "source": [
    "# dict([(i, j) for i, j in zip(influencers, influenced)], weights_\n",
    "weights_2 = prepare_weights(topic_col='Topic2')"
   ]
  },
  {
   "cell_type": "code",
   "execution_count": null,
   "id": "ab3b203d",
   "metadata": {
    "pycharm": {
     "name": "#%%\n"
    }
   },
   "outputs": [],
   "source": [
    "from k_submodular.influence_maximization import weighted_network\n",
    "\n",
    "weighted_G = weighted_network.weighted_network(G, 'rn')"
   ]
  },
  {
   "cell_type": "code",
   "execution_count": null,
   "id": "5209221a",
   "metadata": {
    "pycharm": {
     "name": "#%%\n"
    }
   },
   "outputs": [],
   "source": [
    "# weighted_G.edges()"
   ]
  },
  {
   "cell_type": "code",
   "execution_count": null,
   "id": "fba8ce4b",
   "metadata": {
    "pycharm": {
     "name": "#%%\n"
    }
   },
   "outputs": [],
   "source": [
    "# pd.unique(filtered_friends[ [ 'user_id', 'friend_id']  ].values.ravel('K')).shape"
   ]
  },
  {
   "cell_type": "code",
   "execution_count": null,
   "id": "cf4c1088",
   "metadata": {
    "pycharm": {
     "name": "#%%\n"
    }
   },
   "outputs": [],
   "source": []
  },
  {
   "cell_type": "code",
   "execution_count": null,
   "id": "9c5d7baa",
   "metadata": {
    "pycharm": {
     "name": "#%%\n"
    }
   },
   "outputs": [],
   "source": []
  },
  {
   "cell_type": "code",
   "execution_count": null,
   "id": "6d4e6973",
   "metadata": {
    "pycharm": {
     "name": "#%%\n"
    }
   },
   "outputs": [],
   "source": []
  },
  {
   "cell_type": "code",
   "execution_count": null,
   "id": "48f8213e",
   "metadata": {
    "pycharm": {
     "name": "#%%\n"
    }
   },
   "outputs": [],
   "source": []
  },
  {
   "cell_type": "code",
   "execution_count": null,
   "id": "06154bc0",
   "metadata": {
    "pycharm": {
     "name": "#%%\n"
    }
   },
   "outputs": [],
   "source": []
  },
  {
   "cell_type": "code",
   "execution_count": null,
   "id": "fc2c0ba1",
   "metadata": {
    "pycharm": {
     "name": "#%%\n"
    }
   },
   "outputs": [],
   "source": []
  },
  {
   "cell_type": "code",
   "execution_count": null,
   "id": "7e229909",
   "metadata": {
    "pycharm": {
     "name": "#%%\n"
    }
   },
   "outputs": [],
   "source": []
  },
  {
   "cell_type": "code",
   "execution_count": null,
   "id": "3660247f",
   "metadata": {
    "pycharm": {
     "name": "#%%\n"
    }
   },
   "outputs": [],
   "source": []
  },
  {
   "cell_type": "code",
   "execution_count": null,
   "id": "ff164e45",
   "metadata": {
    "pycharm": {
     "name": "#%%\n"
    }
   },
   "outputs": [],
   "source": []
  },
  {
   "cell_type": "code",
   "execution_count": null,
   "id": "b4d4f560",
   "metadata": {
    "pycharm": {
     "name": "#%%\n"
    }
   },
   "outputs": [],
   "source": []
  }
 ],
 "metadata": {
  "kernelspec": {
   "display_name": "py36env_new",
   "language": "python",
   "name": "py36env_new"
  },
  "language_info": {
   "codemirror_mode": {
    "name": "ipython",
    "version": 3
   },
   "file_extension": ".py",
   "mimetype": "text/x-python",
   "name": "python",
   "nbconvert_exporter": "python",
   "pygments_lexer": "ipython3",
   "version": "3.6.4"
  }
 },
 "nbformat": 4,
 "nbformat_minor": 5
}