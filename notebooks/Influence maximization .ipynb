{
 "cells": [
  {
   "cell_type": "code",
   "execution_count": 1,
   "id": "2cd9f5b9",
   "metadata": {},
   "outputs": [],
   "source": [
    "import pandas as pd\n",
    "import numpy as np \n",
    "\n",
    "import sys \n",
    "sys.path.append('../')"
   ]
  },
  {
   "cell_type": "markdown",
   "id": "3839c177",
   "metadata": {},
   "source": [
    "## Read datasets "
   ]
  },
  {
   "cell_type": "code",
   "execution_count": 54,
   "id": "188df9db",
   "metadata": {},
   "outputs": [],
   "source": [
    "# mutual: indicated whether the link represents a mutual friend relation (1) or not (0)\n",
    "# friend_date: Unix time stamp of when the friendship link was created\n",
    "# user_id: anonymized unique id of a user\n",
    "# friend_id: anonymized unique id of a user\n",
    "\n",
    "\n",
    "\n",
    "# vote_date: Unix time stamp of the vote\n",
    "# voter_id: anonymized unique id of the voter\n",
    "# story_id: anonymized unique id of the story\n",
    "\n",
    "\n",
    "friends = pd.read_csv('../../digg_friends.csv', names=['mutual', 'friend_date', 'user_id', 'friend_id' ])\n",
    "votes = pd.read_csv('../../digg_votes1.csv', names=['vote_date', 'voter_id', 'story_id'])\n",
    "\n",
    "## Friendship in both directions \n",
    "\n",
    "mutual_0 = friends[friends['mutual'] == 0]\n",
    "mutual_1 = friends[friends['mutual'] == 1]\n",
    "\n",
    "mutual_2 = mutual_1.copy()\n",
    "mutual_2[['user_id', 'friend_id']] = mutual_2[['friend_id', 'user_id']]\n",
    "\n",
    "\n",
    "friends = pd.concat([mutual_0, mutual_1, mutual_2])[['user_id', 'friend_id']]"
   ]
  },
  {
   "cell_type": "code",
   "execution_count": 55,
   "id": "6d0db845",
   "metadata": {},
   "outputs": [
    {
     "data": {
      "text/plain": [
       "((2617993, 2), (3018197, 3))"
      ]
     },
     "execution_count": 55,
     "metadata": {},
     "output_type": "execute_result"
    }
   ],
   "source": [
    "friends.shape, votes.shape"
   ]
  },
  {
   "cell_type": "markdown",
   "id": "6929a1e0",
   "metadata": {},
   "source": [
    "## Filter users who voted voted atleast on 20 stories"
   ]
  },
  {
   "cell_type": "code",
   "execution_count": 66,
   "id": "41d052f2",
   "metadata": {},
   "outputs": [
    {
     "data": {
      "text/plain": [
       "15762"
      ]
     },
     "execution_count": 66,
     "metadata": {},
     "output_type": "execute_result"
    }
   ],
   "source": [
    "users_friends = dict(friends.groupby(['user_id']).size())\n",
    "friends_users = dict(friends.groupby(['friend_id']).size())\n",
    "\n",
    "top_users = list({k:v for k,v in users_friends.items() if v < 400 and v > 20  })\n",
    "\n",
    "len(top_users)\n",
    "# top_users = set(top_users.keys())\n",
    "\n",
    "# filtered_friends = friends[friends['user_id'].isin(top_users) & friends['friend_id'].isin(top_users)]\n",
    "# print(len(top_users))\n",
    "\n",
    "# filtered_friends[ [ 'user_id', 'friend_id']  ]"
   ]
  },
  {
   "cell_type": "code",
   "execution_count": 30,
   "id": "69109be5",
   "metadata": {
    "scrolled": true
   },
   "outputs": [],
   "source": [
    "# # total_users = top_followers\n",
    "# # total_users = top_users\n",
    "# total_users = list(set(list(top_users.keys()) + list(top_followers.keys())))\n",
    "\n",
    "# filtered_friends = friends[(friends['user_id'].isin(total_users)) | (friends['friend_id'].isin(total_users))]"
   ]
  },
  {
   "cell_type": "code",
   "execution_count": 63,
   "id": "e6134d82",
   "metadata": {},
   "outputs": [
    {
     "data": {
      "text/html": [
       "<div>\n",
       "<style scoped>\n",
       "    .dataframe tbody tr th:only-of-type {\n",
       "        vertical-align: middle;\n",
       "    }\n",
       "\n",
       "    .dataframe tbody tr th {\n",
       "        vertical-align: top;\n",
       "    }\n",
       "\n",
       "    .dataframe thead th {\n",
       "        text-align: right;\n",
       "    }\n",
       "</style>\n",
       "<table border=\"1\" class=\"dataframe\">\n",
       "  <thead>\n",
       "    <tr style=\"text-align: right;\">\n",
       "      <th></th>\n",
       "      <th>user_id</th>\n",
       "      <th>friend_id</th>\n",
       "    </tr>\n",
       "  </thead>\n",
       "  <tbody>\n",
       "    <tr>\n",
       "      <th>53</th>\n",
       "      <td>336200</td>\n",
       "      <td>333248</td>\n",
       "    </tr>\n",
       "    <tr>\n",
       "      <th>58</th>\n",
       "      <td>336200</td>\n",
       "      <td>330595</td>\n",
       "    </tr>\n",
       "    <tr>\n",
       "      <th>60</th>\n",
       "      <td>336200</td>\n",
       "      <td>330208</td>\n",
       "    </tr>\n",
       "    <tr>\n",
       "      <th>62</th>\n",
       "      <td>336200</td>\n",
       "      <td>328387</td>\n",
       "    </tr>\n",
       "    <tr>\n",
       "      <th>63</th>\n",
       "      <td>336200</td>\n",
       "      <td>327579</td>\n",
       "    </tr>\n",
       "    <tr>\n",
       "      <th>...</th>\n",
       "      <td>...</td>\n",
       "      <td>...</td>\n",
       "    </tr>\n",
       "    <tr>\n",
       "      <th>1731583</th>\n",
       "      <td>186376</td>\n",
       "      <td>60</td>\n",
       "    </tr>\n",
       "    <tr>\n",
       "      <th>1731584</th>\n",
       "      <td>172882</td>\n",
       "      <td>60</td>\n",
       "    </tr>\n",
       "    <tr>\n",
       "      <th>1731592</th>\n",
       "      <td>66044</td>\n",
       "      <td>60</td>\n",
       "    </tr>\n",
       "    <tr>\n",
       "      <th>1731609</th>\n",
       "      <td>88708</td>\n",
       "      <td>40</td>\n",
       "    </tr>\n",
       "    <tr>\n",
       "      <th>1731642</th>\n",
       "      <td>70780</td>\n",
       "      <td>10</td>\n",
       "    </tr>\n",
       "  </tbody>\n",
       "</table>\n",
       "<p>671085 rows × 2 columns</p>\n",
       "</div>"
      ],
      "text/plain": [
       "         user_id  friend_id\n",
       "53        336200     333248\n",
       "58        336200     330595\n",
       "60        336200     330208\n",
       "62        336200     328387\n",
       "63        336200     327579\n",
       "...          ...        ...\n",
       "1731583   186376         60\n",
       "1731584   172882         60\n",
       "1731592    66044         60\n",
       "1731609    88708         40\n",
       "1731642    70780         10\n",
       "\n",
       "[671085 rows x 2 columns]"
      ]
     },
     "execution_count": 63,
     "metadata": {},
     "output_type": "execute_result"
    }
   ],
   "source": [
    "friends[friends['user_id'].isin(top_users)]"
   ]
  },
  {
   "cell_type": "code",
   "execution_count": 64,
   "id": "e49cff20",
   "metadata": {},
   "outputs": [
    {
     "data": {
      "text/plain": [
       "739600"
      ]
     },
     "execution_count": 64,
     "metadata": {},
     "output_type": "execute_result"
    }
   ],
   "source": [
    "860 ** 2"
   ]
  },
  {
   "cell_type": "code",
   "execution_count": 44,
   "id": "39684f59",
   "metadata": {},
   "outputs": [
    {
     "data": {
      "text/html": [
       "<div>\n",
       "<style scoped>\n",
       "    .dataframe tbody tr th:only-of-type {\n",
       "        vertical-align: middle;\n",
       "    }\n",
       "\n",
       "    .dataframe tbody tr th {\n",
       "        vertical-align: top;\n",
       "    }\n",
       "\n",
       "    .dataframe thead th {\n",
       "        text-align: right;\n",
       "    }\n",
       "</style>\n",
       "<table border=\"1\" class=\"dataframe\">\n",
       "  <thead>\n",
       "    <tr style=\"text-align: right;\">\n",
       "      <th></th>\n",
       "      <th>mutual</th>\n",
       "      <th>friend_date</th>\n",
       "      <th>user_id</th>\n",
       "      <th>friend_id</th>\n",
       "    </tr>\n",
       "  </thead>\n",
       "  <tbody>\n",
       "    <tr>\n",
       "      <th>28</th>\n",
       "      <td>1</td>\n",
       "      <td>1209447167</td>\n",
       "      <td>221629</td>\n",
       "      <td>336215</td>\n",
       "    </tr>\n",
       "    <tr>\n",
       "      <th>41</th>\n",
       "      <td>1</td>\n",
       "      <td>1205461239</td>\n",
       "      <td>336191</td>\n",
       "      <td>336200</td>\n",
       "    </tr>\n",
       "    <tr>\n",
       "      <th>42</th>\n",
       "      <td>1</td>\n",
       "      <td>1202837780</td>\n",
       "      <td>336169</td>\n",
       "      <td>336200</td>\n",
       "    </tr>\n",
       "    <tr>\n",
       "      <th>43</th>\n",
       "      <td>1</td>\n",
       "      <td>1201143840</td>\n",
       "      <td>335438</td>\n",
       "      <td>336200</td>\n",
       "    </tr>\n",
       "    <tr>\n",
       "      <th>44</th>\n",
       "      <td>1</td>\n",
       "      <td>1199907894</td>\n",
       "      <td>335381</td>\n",
       "      <td>336200</td>\n",
       "    </tr>\n",
       "    <tr>\n",
       "      <th>...</th>\n",
       "      <td>...</td>\n",
       "      <td>...</td>\n",
       "      <td>...</td>\n",
       "      <td>...</td>\n",
       "    </tr>\n",
       "    <tr>\n",
       "      <th>1731592</th>\n",
       "      <td>1</td>\n",
       "      <td>1227115009</td>\n",
       "      <td>66044</td>\n",
       "      <td>60</td>\n",
       "    </tr>\n",
       "    <tr>\n",
       "      <th>1731609</th>\n",
       "      <td>1</td>\n",
       "      <td>1246298286</td>\n",
       "      <td>88708</td>\n",
       "      <td>40</td>\n",
       "    </tr>\n",
       "    <tr>\n",
       "      <th>1731616</th>\n",
       "      <td>1</td>\n",
       "      <td>1238812906</td>\n",
       "      <td>227703</td>\n",
       "      <td>33</td>\n",
       "    </tr>\n",
       "    <tr>\n",
       "      <th>1731642</th>\n",
       "      <td>1</td>\n",
       "      <td>1197470051</td>\n",
       "      <td>70780</td>\n",
       "      <td>10</td>\n",
       "    </tr>\n",
       "    <tr>\n",
       "      <th>1731655</th>\n",
       "      <td>1</td>\n",
       "      <td>1192718299</td>\n",
       "      <td>192330</td>\n",
       "      <td>5</td>\n",
       "    </tr>\n",
       "  </tbody>\n",
       "</table>\n",
       "<p>672540 rows × 4 columns</p>\n",
       "</div>"
      ],
      "text/plain": [
       "         mutual  friend_date  user_id  friend_id\n",
       "28            1   1209447167   221629     336215\n",
       "41            1   1205461239   336191     336200\n",
       "42            1   1202837780   336169     336200\n",
       "43            1   1201143840   335438     336200\n",
       "44            1   1199907894   335381     336200\n",
       "...         ...          ...      ...        ...\n",
       "1731592       1   1227115009    66044         60\n",
       "1731609       1   1246298286    88708         40\n",
       "1731616       1   1238812906   227703         33\n",
       "1731642       1   1197470051    70780         10\n",
       "1731655       1   1192718299   192330          5\n",
       "\n",
       "[672540 rows x 4 columns]"
      ]
     },
     "execution_count": 44,
     "metadata": {},
     "output_type": "execute_result"
    }
   ],
   "source": [
    "mutual_1"
   ]
  },
  {
   "cell_type": "markdown",
   "id": "97723663",
   "metadata": {},
   "source": [
    "## Save files "
   ]
  },
  {
   "cell_type": "code",
   "execution_count": 80,
   "id": "9541365c",
   "metadata": {},
   "outputs": [],
   "source": [
    "# network_path: No header. SourceId\tDestinationId\n",
    "    \n",
    "filtered_friends[ [ 'user_id', 'friend_id']  ].to_csv('./output/digg_filtered_friends.txt', header=['user_id', 'friend_id'], sep='\\t', index=False)"
   ]
  },
  {
   "cell_type": "code",
   "execution_count": 117,
   "id": "5a46c70a",
   "metadata": {},
   "outputs": [],
   "source": []
  },
  {
   "cell_type": "code",
   "execution_count": 136,
   "id": "85e949fa",
   "metadata": {},
   "outputs": [
    {
     "name": "stderr",
     "output_type": "stream",
     "text": [
      "/home/yido/.pyenv/versions/3.6.4/lib/python3.6/site-packages/ipykernel_launcher.py:5: UserWarning: Boolean Series key will be reindexed to match DataFrame index.\n",
      "  \"\"\"\n",
      "/home/yido/.pyenv/versions/3.6.4/lib/python3.6/site-packages/ipykernel_launcher.py:10: UserWarning: Boolean Series key will be reindexed to match DataFrame index.\n",
      "  # Remove the CWD from sys.path while we load stuff.\n"
     ]
    },
    {
     "data": {
      "text/plain": [
       "(197752, 3)"
      ]
     },
     "execution_count": 136,
     "metadata": {},
     "output_type": "execute_result"
    }
   ],
   "source": [
    "filtered_votes = votes[votes['voter_id'].isin(top_users)]\n",
    "\n",
    "stories_count = filtered_votes.groupby(['story_id']).size()\n",
    "top_stories = [k for k,v in stories_count.items() if v > 20]\n",
    "filtered_votes = filtered_votes[votes['story_id'].isin(top_stories)]\n",
    "\n",
    "users_counts = filtered_votes.groupby(['voter_id']).size()\n",
    "top_users = [u for u, count in users_counts.items() if count > 20]\n",
    "# print(len(top_users))\n",
    "filtered_votes = filtered_votes[votes['voter_id'].isin(top_users)]\n",
    "filtered_votes['voter_id'].unique().shape\n",
    "\n",
    "\n",
    "filtered_votes.shape "
   ]
  },
  {
   "cell_type": "code",
   "execution_count": 137,
   "id": "af035b65",
   "metadata": {},
   "outputs": [
    {
     "data": {
      "text/plain": [
       "(878,)"
      ]
     },
     "execution_count": 137,
     "metadata": {},
     "output_type": "execute_result"
    }
   ],
   "source": [
    "filtered_votes['voter_id'].unique().shape "
   ]
  },
  {
   "cell_type": "markdown",
   "id": "f2353de2",
   "metadata": {},
   "source": [
    "## Filter by stories having >20 votes"
   ]
  },
  {
   "cell_type": "code",
   "execution_count": 81,
   "id": "cf5fc3a5",
   "metadata": {},
   "outputs": [],
   "source": [
    "# stories = votes['story_id'].unique()\n",
    "story_votes = dict(votes.groupby(['story_id']).size())"
   ]
  },
  {
   "cell_type": "code",
   "execution_count": 82,
   "id": "81a88da0",
   "metadata": {},
   "outputs": [],
   "source": [
    "\n",
    "story_votes = {k:v for k,v in story_votes.items() if v > 100 }\n",
    "\n",
    "top_stories = list(story_votes.keys())"
   ]
  },
  {
   "cell_type": "code",
   "execution_count": 83,
   "id": "300f2377",
   "metadata": {},
   "outputs": [],
   "source": [
    "filtered_votes = votes[votes['story_id'].isin(top_stories) & votes['voter_id'].isin(top_users)]"
   ]
  },
  {
   "cell_type": "code",
   "execution_count": 84,
   "id": "89a761ec",
   "metadata": {},
   "outputs": [
    {
     "data": {
      "text/plain": [
       "(912, 3553)"
      ]
     },
     "execution_count": 84,
     "metadata": {},
     "output_type": "execute_result"
    }
   ],
   "source": [
    "len(top_users), len(top_stories)"
   ]
  },
  {
   "cell_type": "code",
   "execution_count": 85,
   "id": "2418d654",
   "metadata": {},
   "outputs": [],
   "source": [
    "filtered_votes [['voter_id', 'story_id', 'vote_date']].to_csv('./output/digg_filtered_votes.txt', header=['voter_id', 'story_id', 'vote_date'], sep='\\t', index=False)"
   ]
  },
  {
   "cell_type": "code",
   "execution_count": 86,
   "id": "4f7eea85",
   "metadata": {},
   "outputs": [
    {
     "data": {
      "text/html": [
       "<div>\n",
       "<style scoped>\n",
       "    .dataframe tbody tr th:only-of-type {\n",
       "        vertical-align: middle;\n",
       "    }\n",
       "\n",
       "    .dataframe tbody tr th {\n",
       "        vertical-align: top;\n",
       "    }\n",
       "\n",
       "    .dataframe thead th {\n",
       "        text-align: right;\n",
       "    }\n",
       "</style>\n",
       "<table border=\"1\" class=\"dataframe\">\n",
       "  <thead>\n",
       "    <tr style=\"text-align: right;\">\n",
       "      <th></th>\n",
       "      <th>voter_id</th>\n",
       "      <th>story_id</th>\n",
       "      <th>vote_date</th>\n",
       "    </tr>\n",
       "  </thead>\n",
       "  <tbody>\n",
       "    <tr>\n",
       "      <th>46</th>\n",
       "      <td>24916</td>\n",
       "      <td>1</td>\n",
       "      <td>1246564734</td>\n",
       "    </tr>\n",
       "    <tr>\n",
       "      <th>53</th>\n",
       "      <td>27241</td>\n",
       "      <td>1</td>\n",
       "      <td>1246625992</td>\n",
       "    </tr>\n",
       "    <tr>\n",
       "      <th>59</th>\n",
       "      <td>33217</td>\n",
       "      <td>1</td>\n",
       "      <td>1246605018</td>\n",
       "    </tr>\n",
       "    <tr>\n",
       "      <th>116</th>\n",
       "      <td>63501</td>\n",
       "      <td>1</td>\n",
       "      <td>1246572238</td>\n",
       "    </tr>\n",
       "    <tr>\n",
       "      <th>133</th>\n",
       "      <td>70227</td>\n",
       "      <td>1</td>\n",
       "      <td>1246565268</td>\n",
       "    </tr>\n",
       "    <tr>\n",
       "      <th>...</th>\n",
       "      <td>...</td>\n",
       "      <td>...</td>\n",
       "      <td>...</td>\n",
       "    </tr>\n",
       "    <tr>\n",
       "      <th>3017930</th>\n",
       "      <td>266031</td>\n",
       "      <td>3553</td>\n",
       "      <td>1243950185</td>\n",
       "    </tr>\n",
       "    <tr>\n",
       "      <th>3017942</th>\n",
       "      <td>269430</td>\n",
       "      <td>3553</td>\n",
       "      <td>1243820935</td>\n",
       "    </tr>\n",
       "    <tr>\n",
       "      <th>3018047</th>\n",
       "      <td>298705</td>\n",
       "      <td>3553</td>\n",
       "      <td>1243945457</td>\n",
       "    </tr>\n",
       "    <tr>\n",
       "      <th>3018099</th>\n",
       "      <td>309541</td>\n",
       "      <td>3553</td>\n",
       "      <td>1243955049</td>\n",
       "    </tr>\n",
       "    <tr>\n",
       "      <th>3018171</th>\n",
       "      <td>329445</td>\n",
       "      <td>3553</td>\n",
       "      <td>1243918176</td>\n",
       "    </tr>\n",
       "  </tbody>\n",
       "</table>\n",
       "<p>81549 rows × 3 columns</p>\n",
       "</div>"
      ],
      "text/plain": [
       "         voter_id  story_id   vote_date\n",
       "46          24916         1  1246564734\n",
       "53          27241         1  1246625992\n",
       "59          33217         1  1246605018\n",
       "116         63501         1  1246572238\n",
       "133         70227         1  1246565268\n",
       "...           ...       ...         ...\n",
       "3017930    266031      3553  1243950185\n",
       "3017942    269430      3553  1243820935\n",
       "3018047    298705      3553  1243945457\n",
       "3018099    309541      3553  1243955049\n",
       "3018171    329445      3553  1243918176\n",
       "\n",
       "[81549 rows x 3 columns]"
      ]
     },
     "execution_count": 86,
     "metadata": {},
     "output_type": "execute_result"
    }
   ],
   "source": [
    "filtered_votes [['voter_id', 'story_id', 'vote_date']]"
   ]
  },
  {
   "cell_type": "code",
   "execution_count": null,
   "id": "338b94f5",
   "metadata": {},
   "outputs": [],
   "source": []
  },
  {
   "cell_type": "code",
   "execution_count": null,
   "id": "013619c4",
   "metadata": {},
   "outputs": [],
   "source": []
  },
  {
   "cell_type": "markdown",
   "id": "dd6e1d5e",
   "metadata": {},
   "source": [
    "\n",
    "## Create network \n",
    "\n"
   ]
  },
  {
   "cell_type": "code",
   "execution_count": 8,
   "id": "7d74600e",
   "metadata": {},
   "outputs": [],
   "source": [
    "import networkx\n",
    "\n",
    "G = networkx.DiGraph()\n",
    "for u in top_users: \n",
    "    G.add_node(u)\n",
    "    friends = filtered_friends[filtered_friends['user_id'] == u]['friend_id']\n",
    "    \n",
    "    G.add_edges_from([(u, f) for f in friends])\n"
   ]
  },
  {
   "cell_type": "markdown",
   "id": "72464c96",
   "metadata": {},
   "source": [
    "# Load weights "
   ]
  },
  {
   "cell_type": "code",
   "execution_count": 15,
   "id": "d77f3858",
   "metadata": {},
   "outputs": [
    {
     "data": {
      "text/html": [
       "<div>\n",
       "<style scoped>\n",
       "    .dataframe tbody tr th:only-of-type {\n",
       "        vertical-align: middle;\n",
       "    }\n",
       "\n",
       "    .dataframe tbody tr th {\n",
       "        vertical-align: top;\n",
       "    }\n",
       "\n",
       "    .dataframe thead th {\n",
       "        text-align: right;\n",
       "    }\n",
       "</style>\n",
       "<table border=\"1\" class=\"dataframe\">\n",
       "  <thead>\n",
       "    <tr style=\"text-align: right;\">\n",
       "      <th></th>\n",
       "      <th>mutual</th>\n",
       "      <th>friend_date</th>\n",
       "      <th>user_id</th>\n",
       "      <th>friend_id</th>\n",
       "    </tr>\n",
       "  </thead>\n",
       "  <tbody>\n",
       "    <tr>\n",
       "      <th>1229797</th>\n",
       "      <td>1</td>\n",
       "      <td>1238655881</td>\n",
       "      <td>95593</td>\n",
       "      <td>333418</td>\n",
       "    </tr>\n",
       "    <tr>\n",
       "      <th>1229798</th>\n",
       "      <td>0</td>\n",
       "      <td>1238325756</td>\n",
       "      <td>95593</td>\n",
       "      <td>332433</td>\n",
       "    </tr>\n",
       "    <tr>\n",
       "      <th>1229799</th>\n",
       "      <td>0</td>\n",
       "      <td>1239490392</td>\n",
       "      <td>95593</td>\n",
       "      <td>331224</td>\n",
       "    </tr>\n",
       "    <tr>\n",
       "      <th>1229800</th>\n",
       "      <td>0</td>\n",
       "      <td>1238325453</td>\n",
       "      <td>95593</td>\n",
       "      <td>330902</td>\n",
       "    </tr>\n",
       "    <tr>\n",
       "      <th>1229801</th>\n",
       "      <td>0</td>\n",
       "      <td>1238328061</td>\n",
       "      <td>95593</td>\n",
       "      <td>329292</td>\n",
       "    </tr>\n",
       "    <tr>\n",
       "      <th>...</th>\n",
       "      <td>...</td>\n",
       "      <td>...</td>\n",
       "      <td>...</td>\n",
       "      <td>...</td>\n",
       "    </tr>\n",
       "    <tr>\n",
       "      <th>1230109</th>\n",
       "      <td>0</td>\n",
       "      <td>1238328030</td>\n",
       "      <td>95593</td>\n",
       "      <td>3317</td>\n",
       "    </tr>\n",
       "    <tr>\n",
       "      <th>1230110</th>\n",
       "      <td>0</td>\n",
       "      <td>1238325396</td>\n",
       "      <td>95593</td>\n",
       "      <td>2550</td>\n",
       "    </tr>\n",
       "    <tr>\n",
       "      <th>1230111</th>\n",
       "      <td>1</td>\n",
       "      <td>1238324143</td>\n",
       "      <td>95593</td>\n",
       "      <td>1541</td>\n",
       "    </tr>\n",
       "    <tr>\n",
       "      <th>1230112</th>\n",
       "      <td>1</td>\n",
       "      <td>1238608436</td>\n",
       "      <td>95593</td>\n",
       "      <td>285</td>\n",
       "    </tr>\n",
       "    <tr>\n",
       "      <th>1230113</th>\n",
       "      <td>1</td>\n",
       "      <td>1239525557</td>\n",
       "      <td>95593</td>\n",
       "      <td>56</td>\n",
       "    </tr>\n",
       "  </tbody>\n",
       "</table>\n",
       "<p>317 rows × 4 columns</p>\n",
       "</div>"
      ],
      "text/plain": [
       "         mutual  friend_date  user_id  friend_id\n",
       "1229797       1   1238655881    95593     333418\n",
       "1229798       0   1238325756    95593     332433\n",
       "1229799       0   1239490392    95593     331224\n",
       "1229800       0   1238325453    95593     330902\n",
       "1229801       0   1238328061    95593     329292\n",
       "...         ...          ...      ...        ...\n",
       "1230109       0   1238328030    95593       3317\n",
       "1230110       0   1238325396    95593       2550\n",
       "1230111       1   1238324143    95593       1541\n",
       "1230112       1   1238608436    95593        285\n",
       "1230113       1   1239525557    95593         56\n",
       "\n",
       "[317 rows x 4 columns]"
      ]
     },
     "execution_count": 15,
     "metadata": {},
     "output_type": "execute_result"
    }
   ],
   "source": [
    "# filtered_friends[['user_id', 'friend_id']]\n",
    "\n",
    "filtered_friends[filtered_friends['user_id'] == 1230024]"
   ]
  },
  {
   "cell_type": "code",
   "execution_count": 66,
   "id": "2f9793e4",
   "metadata": {},
   "outputs": [],
   "source": []
  },
  {
   "cell_type": "code",
   "execution_count": 5,
   "id": "1e3764e0",
   "metadata": {},
   "outputs": [],
   "source": [
    "def prepare_weights(weight_file='./output/digg_with_weights.txt_InfProbs(10)', topic_col='Topic1'):\n",
    "\n",
    "    weights = pd.read_csv(weight_file, sep='\\t', \n",
    "                          names=['Influencer', 'Influenced'] + [f'Topic{i+1}' for i in range(10)], skiprows=1, index_col=False)\n",
    "\n",
    "    data = weights[['Influencer', 'Influenced', topic_col]].to_dict('list')\n",
    "    influencer, influenced, weights_ = data['Influencer'], data['Influenced'], data[topic_col]\n",
    "\n",
    "\n",
    "    return {(influencer[i], influenced[i]): weights_[i] for i, _ in enumerate(weights_) }\n",
    "\n",
    "# weight_dict = dict(zip(influenced, influenced), weights_)"
   ]
  },
  {
   "cell_type": "code",
   "execution_count": 9,
   "id": "f331c0b1",
   "metadata": {},
   "outputs": [],
   "source": [
    "# dict([(i, j) for i, j in zip(influencers, influenced)], weights_\n",
    "weights_2 = prepare_weights(topic_col='Topic2')"
   ]
  },
  {
   "cell_type": "code",
   "execution_count": 65,
   "id": "ab3b203d",
   "metadata": {},
   "outputs": [],
   "source": [
    "from k_submodular.influence_maximization import weighted_network\n",
    "\n",
    "weighted_G = weighted_network.weighted_network(G, 'rn')"
   ]
  },
  {
   "cell_type": "code",
   "execution_count": 68,
   "id": "5209221a",
   "metadata": {},
   "outputs": [],
   "source": [
    "# weighted_G.edges()"
   ]
  },
  {
   "cell_type": "code",
   "execution_count": 54,
   "id": "fba8ce4b",
   "metadata": {},
   "outputs": [],
   "source": [
    "# pd.unique(filtered_friends[ [ 'user_id', 'friend_id']  ].values.ravel('K')).shape"
   ]
  },
  {
   "cell_type": "code",
   "execution_count": null,
   "id": "cf4c1088",
   "metadata": {},
   "outputs": [],
   "source": []
  },
  {
   "cell_type": "code",
   "execution_count": null,
   "id": "9c5d7baa",
   "metadata": {},
   "outputs": [],
   "source": []
  },
  {
   "cell_type": "code",
   "execution_count": null,
   "id": "6d4e6973",
   "metadata": {},
   "outputs": [],
   "source": []
  },
  {
   "cell_type": "code",
   "execution_count": null,
   "id": "48f8213e",
   "metadata": {},
   "outputs": [],
   "source": []
  },
  {
   "cell_type": "code",
   "execution_count": null,
   "id": "06154bc0",
   "metadata": {},
   "outputs": [],
   "source": []
  },
  {
   "cell_type": "code",
   "execution_count": null,
   "id": "fc2c0ba1",
   "metadata": {},
   "outputs": [],
   "source": []
  },
  {
   "cell_type": "code",
   "execution_count": null,
   "id": "7e229909",
   "metadata": {},
   "outputs": [],
   "source": []
  },
  {
   "cell_type": "code",
   "execution_count": null,
   "id": "3660247f",
   "metadata": {},
   "outputs": [],
   "source": []
  },
  {
   "cell_type": "code",
   "execution_count": null,
   "id": "ff164e45",
   "metadata": {},
   "outputs": [],
   "source": []
  },
  {
   "cell_type": "code",
   "execution_count": null,
   "id": "b4d4f560",
   "metadata": {},
   "outputs": [],
   "source": []
  }
 ],
 "metadata": {
  "kernelspec": {
   "display_name": "py36env_new",
   "language": "python",
   "name": "py36env_new"
  },
  "language_info": {
   "codemirror_mode": {
    "name": "ipython",
    "version": 3
   },
   "file_extension": ".py",
   "mimetype": "text/x-python",
   "name": "python",
   "nbconvert_exporter": "python",
   "pygments_lexer": "ipython3",
   "version": "3.6.4"
  }
 },
 "nbformat": 4,
 "nbformat_minor": 5
}
