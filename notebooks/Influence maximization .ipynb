{
 "cells": [
  {
   "cell_type": "code",
   "execution_count": 13,
   "id": "2cd9f5b9",
   "metadata": {},
   "outputs": [],
   "source": [
    "import pandas as pd\n",
    "import numpy as np "
   ]
  },
  {
   "cell_type": "code",
   "execution_count": 11,
   "id": "299e166f",
   "metadata": {},
   "outputs": [
    {
     "name": "stdout",
     "output_type": "stream",
     "text": [
      "Collecting networkx\n",
      "  Downloading networkx-2.5.1-py3-none-any.whl (1.6 MB)\n",
      "     |████████████████████████████████| 1.6 MB 2.6 MB/s            \n",
      "\u001b[?25hCollecting decorator<5,>=4.3\n",
      "  Using cached decorator-4.4.2-py2.py3-none-any.whl (9.2 kB)\n",
      "Installing collected packages: decorator, networkx\n",
      "  Attempting uninstall: decorator\n",
      "    Found existing installation: decorator 5.1.1\n",
      "    Uninstalling decorator-5.1.1:\n",
      "      Successfully uninstalled decorator-5.1.1\n",
      "Successfully installed decorator-4.4.2 networkx-2.5.1\n"
     ]
    }
   ],
   "source": [
    "!pip install networkx"
   ]
  },
  {
   "cell_type": "markdown",
   "id": "3839c177",
   "metadata": {},
   "source": [
    "## Read datasets "
   ]
  },
  {
   "cell_type": "code",
   "execution_count": 124,
   "id": "188df9db",
   "metadata": {},
   "outputs": [],
   "source": [
    "# mutual: indicated whether the link represents a mutual friend relation (1) or not (0)\n",
    "# friend_date: Unix time stamp of when the friendship link was created\n",
    "# user_id: anonymized unique id of a user\n",
    "# friend_id: anonymized unique id of a user\n",
    "\n",
    "\n",
    "\n",
    "# vote_date: Unix time stamp of the vote\n",
    "# voter_id: anonymized unique id of the voter\n",
    "# story_id: anonymized unique id of the story\n",
    "\n",
    "\n",
    "friends = pd.read_csv('../../digg_friends.csv', names=['mutual', 'friend_date', 'user_id', 'friend_id' ])\n",
    "votes = pd.read_csv('../../digg_votes1.csv', names=['voter_date', 'voter_id', 'story_id'])"
   ]
  },
  {
   "cell_type": "code",
   "execution_count": 142,
   "id": "6d0db845",
   "metadata": {},
   "outputs": [
    {
     "data": {
      "text/plain": [
       "((1731658, 4), (3018197, 3))"
      ]
     },
     "execution_count": 142,
     "metadata": {},
     "output_type": "execute_result"
    }
   ],
   "source": [
    "friends.shape, votes.shape"
   ]
  },
  {
   "cell_type": "markdown",
   "id": "2a2517bb",
   "metadata": {},
   "source": [
    " ## Sort users "
   ]
  },
  {
   "cell_type": "code",
   "execution_count": 143,
   "id": "e7c83a11",
   "metadata": {},
   "outputs": [
    {
     "data": {
      "text/plain": [
       "71367"
      ]
     },
     "execution_count": 143,
     "metadata": {},
     "output_type": "execute_result"
    }
   ],
   "source": [
    "user_ids = friends['user_id'].unique()\n",
    "len(user_ids)"
   ]
  },
  {
   "cell_type": "markdown",
   "id": "6929a1e0",
   "metadata": {},
   "source": [
    "## Filter users who voted voted atleast on 20 stories"
   ]
  },
  {
   "cell_type": "code",
   "execution_count": 137,
   "id": "41d052f2",
   "metadata": {},
   "outputs": [],
   "source": [
    "users_friends = dict(friends.groupby(['user_id']).size())\n",
    "top_users = {k:v for k,v in users_friends.items() if v > 20 }\n",
    "\n",
    "top_users = list(top_users.keys())\n",
    "\n",
    "filtered_friends = friends[friends['user_id'].isin(top_users)]"
   ]
  },
  {
   "cell_type": "code",
   "execution_count": 144,
   "id": "e25db6f9",
   "metadata": {},
   "outputs": [
    {
     "data": {
      "text/html": [
       "<div>\n",
       "<style scoped>\n",
       "    .dataframe tbody tr th:only-of-type {\n",
       "        vertical-align: middle;\n",
       "    }\n",
       "\n",
       "    .dataframe tbody tr th {\n",
       "        vertical-align: top;\n",
       "    }\n",
       "\n",
       "    .dataframe thead th {\n",
       "        text-align: right;\n",
       "    }\n",
       "</style>\n",
       "<table border=\"1\" class=\"dataframe\">\n",
       "  <thead>\n",
       "    <tr style=\"text-align: right;\">\n",
       "      <th></th>\n",
       "      <th>user_id</th>\n",
       "      <th>friend_id</th>\n",
       "    </tr>\n",
       "  </thead>\n",
       "  <tbody>\n",
       "    <tr>\n",
       "      <th>41</th>\n",
       "      <td>336200</td>\n",
       "      <td>336191</td>\n",
       "    </tr>\n",
       "    <tr>\n",
       "      <th>42</th>\n",
       "      <td>336200</td>\n",
       "      <td>336169</td>\n",
       "    </tr>\n",
       "    <tr>\n",
       "      <th>43</th>\n",
       "      <td>336200</td>\n",
       "      <td>335438</td>\n",
       "    </tr>\n",
       "    <tr>\n",
       "      <th>44</th>\n",
       "      <td>336200</td>\n",
       "      <td>335381</td>\n",
       "    </tr>\n",
       "    <tr>\n",
       "      <th>45</th>\n",
       "      <td>336200</td>\n",
       "      <td>335272</td>\n",
       "    </tr>\n",
       "    <tr>\n",
       "      <th>...</th>\n",
       "      <td>...</td>\n",
       "      <td>...</td>\n",
       "    </tr>\n",
       "    <tr>\n",
       "      <th>1731589</th>\n",
       "      <td>60</td>\n",
       "      <td>102826</td>\n",
       "    </tr>\n",
       "    <tr>\n",
       "      <th>1731590</th>\n",
       "      <td>60</td>\n",
       "      <td>93392</td>\n",
       "    </tr>\n",
       "    <tr>\n",
       "      <th>1731591</th>\n",
       "      <td>60</td>\n",
       "      <td>75872</td>\n",
       "    </tr>\n",
       "    <tr>\n",
       "      <th>1731592</th>\n",
       "      <td>60</td>\n",
       "      <td>66044</td>\n",
       "    </tr>\n",
       "    <tr>\n",
       "      <th>1731593</th>\n",
       "      <td>60</td>\n",
       "      <td>12859</td>\n",
       "    </tr>\n",
       "  </tbody>\n",
       "</table>\n",
       "<p>1469365 rows × 2 columns</p>\n",
       "</div>"
      ],
      "text/plain": [
       "         user_id  friend_id\n",
       "41        336200     336191\n",
       "42        336200     336169\n",
       "43        336200     335438\n",
       "44        336200     335381\n",
       "45        336200     335272\n",
       "...          ...        ...\n",
       "1731589       60     102826\n",
       "1731590       60      93392\n",
       "1731591       60      75872\n",
       "1731592       60      66044\n",
       "1731593       60      12859\n",
       "\n",
       "[1469365 rows x 2 columns]"
      ]
     },
     "execution_count": 144,
     "metadata": {},
     "output_type": "execute_result"
    }
   ],
   "source": [
    "len(top_users)\n",
    "filtered_friends[ [ 'user_id', 'friend_id']  ]"
   ]
  },
  {
   "cell_type": "code",
   "execution_count": 155,
   "id": "fba8ce4b",
   "metadata": {},
   "outputs": [
    {
     "data": {
      "text/plain": [
       "(184743,)"
      ]
     },
     "execution_count": 155,
     "metadata": {},
     "output_type": "execute_result"
    }
   ],
   "source": [
    "pd.unique(filtered_friends[ [ 'user_id', 'friend_id']  ].values.ravel('K')).shape"
   ]
  },
  {
   "cell_type": "markdown",
   "id": "f2353de2",
   "metadata": {},
   "source": [
    "## Filter by stories having >20 votes"
   ]
  },
  {
   "cell_type": "code",
   "execution_count": 129,
   "id": "cf5fc3a5",
   "metadata": {},
   "outputs": [],
   "source": [
    "# stories = votes['story_id'].unique()\n",
    "story_votes = dict(votes.groupby(['story_id']).size())"
   ]
  },
  {
   "cell_type": "code",
   "execution_count": 130,
   "id": "81a88da0",
   "metadata": {},
   "outputs": [],
   "source": [
    "\n",
    "story_votes = {k:v for k,v in story_votes.items() if v > 20 }\n",
    "\n",
    "top_stories = list(story_votes.keys())"
   ]
  },
  {
   "cell_type": "code",
   "execution_count": 132,
   "id": "300f2377",
   "metadata": {},
   "outputs": [],
   "source": [
    "filtered_votes = votes[votes['story_id'].isin(top_stories) & votes['voter_id'].isin(top_users)]"
   ]
  },
  {
   "cell_type": "code",
   "execution_count": 136,
   "id": "89a761ec",
   "metadata": {},
   "outputs": [
    {
     "data": {
      "text/plain": [
       "(10311, 3553)"
      ]
     },
     "execution_count": 136,
     "metadata": {},
     "output_type": "execute_result"
    }
   ],
   "source": [
    "len(top_users), len(top_stories)"
   ]
  },
  {
   "cell_type": "code",
   "execution_count": null,
   "id": "2418d654",
   "metadata": {},
   "outputs": [],
   "source": []
  },
  {
   "cell_type": "code",
   "execution_count": null,
   "id": "4f7eea85",
   "metadata": {},
   "outputs": [],
   "source": []
  },
  {
   "cell_type": "code",
   "execution_count": null,
   "id": "338b94f5",
   "metadata": {},
   "outputs": [],
   "source": []
  },
  {
   "cell_type": "code",
   "execution_count": null,
   "id": "013619c4",
   "metadata": {},
   "outputs": [],
   "source": []
  },
  {
   "cell_type": "code",
   "execution_count": null,
   "id": "cf4c1088",
   "metadata": {},
   "outputs": [],
   "source": []
  },
  {
   "cell_type": "code",
   "execution_count": null,
   "id": "9c5d7baa",
   "metadata": {},
   "outputs": [],
   "source": []
  },
  {
   "cell_type": "code",
   "execution_count": null,
   "id": "6d4e6973",
   "metadata": {},
   "outputs": [],
   "source": []
  },
  {
   "cell_type": "code",
   "execution_count": null,
   "id": "48f8213e",
   "metadata": {},
   "outputs": [],
   "source": []
  },
  {
   "cell_type": "code",
   "execution_count": null,
   "id": "06154bc0",
   "metadata": {},
   "outputs": [],
   "source": []
  },
  {
   "cell_type": "code",
   "execution_count": null,
   "id": "fc2c0ba1",
   "metadata": {},
   "outputs": [],
   "source": []
  },
  {
   "cell_type": "code",
   "execution_count": null,
   "id": "7e229909",
   "metadata": {},
   "outputs": [],
   "source": []
  },
  {
   "cell_type": "code",
   "execution_count": 15,
   "id": "dfda90ec",
   "metadata": {},
   "outputs": [],
   "source": [
    "import sys \n",
    "sys.path.append('../k_submodular/')"
   ]
  },
  {
   "cell_type": "code",
   "execution_count": 21,
   "id": "c161ed09",
   "metadata": {},
   "outputs": [],
   "source": [
    "from independent_cascade import independent_cascade\n",
    "import networkx as nx "
   ]
  },
  {
   "cell_type": "code",
   "execution_count": 58,
   "id": "eaf41cc8",
   "metadata": {},
   "outputs": [
    {
     "data": {
      "text/plain": [
       "[[6], []]"
      ]
     },
     "execution_count": 58,
     "metadata": {},
     "output_type": "execute_result"
    }
   ],
   "source": [
    "DG = nx.DiGraph()\n",
    "DG.add_edges_from([(1,2), (1,3), (1,5), (2,1), (3,2), (4,2), (4,3), \\\n",
    "                   (4,6), (5,3), (5,4), (5,6), (6,4), (6,5)], act_prob=0.2)\n",
    "independent_cascade(DG, [6])\n"
   ]
  },
  {
   "cell_type": "code",
   "execution_count": null,
   "id": "3660247f",
   "metadata": {},
   "outputs": [],
   "source": []
  },
  {
   "cell_type": "code",
   "execution_count": null,
   "id": "ff164e45",
   "metadata": {},
   "outputs": [],
   "source": []
  },
  {
   "cell_type": "code",
   "execution_count": null,
   "id": "b4d4f560",
   "metadata": {},
   "outputs": [],
   "source": []
  }
 ],
 "metadata": {
  "kernelspec": {
   "display_name": "py36env_new",
   "language": "python",
   "name": "py36env_new"
  },
  "language_info": {
   "codemirror_mode": {
    "name": "ipython",
    "version": 3
   },
   "file_extension": ".py",
   "mimetype": "text/x-python",
   "name": "python",
   "nbconvert_exporter": "python",
   "pygments_lexer": "ipython3",
   "version": "3.6.4"
  }
 },
 "nbformat": 4,
 "nbformat_minor": 5
}
